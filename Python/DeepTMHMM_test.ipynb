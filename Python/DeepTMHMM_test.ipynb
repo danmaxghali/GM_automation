{
 "cells": [
  {
   "cell_type": "code",
   "execution_count": 43,
   "id": "775e6089-95bd-4d9e-8db3-1dc937ed3000",
   "metadata": {},
   "outputs": [
    {
     "name": "stdout",
     "output_type": "stream",
     "text": [
      "Structure exists: 'C:\\Users\\Student\\OneDrive - Aston University\\Documents\\Biology\\Project\\Project_automation\\Python\\PDB_files\\pdb2r4s.ent' \n",
      "STDOUT: 2025-02-26 22:45:39,101 | INFO : Extracted zip file to: output/\n",
      "\n",
      "2025-02-26 22:45:39,104 | INFO : Done in 3.78 seconds\n",
      "\n",
      "2025-02-26 22:45:39,101 | INFO : Extracted zip file to: output/\n",
      "2025-02-26 22:45:39,104 | INFO : Done in 3.78 seconds\n",
      "\n",
      "STDERR: \n"
     ]
    }
   ],
   "source": [
    "# Call neccesary liraries\n",
    "from Bio import PDB\n",
    "from Bio import SeqIO\n",
    "\n",
    "# Get PDB data\n",
    "pdb_code = \"2r4s\"\n",
    "pdb_file = PDB.PDBList()\n",
    "pdb_file.retrieve_pdb_file(pdb_code, file_format=\"pdb\", pdir='C:\\\\Users\\\\Student\\\\OneDrive - Aston University\\\\Documents\\\\Biology\\\\Project\\\\Project_automation\\\\Python\\\\PDB_files')\n",
    "\n",
    "# Parse the file\n",
    "parser = PDB.PDBParser(QUIET=True)\n",
    "structure = parser.get_structure(pdb_code, f\"C:\\\\Users\\\\Student\\\\OneDrive - Aston University\\\\Documents\\\\Biology\\\\Project\\\\Project_automation\\\\Python\\\\PDB_files\\\\pdb{pdb_code}.ent\")\n",
    "\n",
    "# Define filepaths\n",
    "pdb_filepath = f\"C:\\\\Users\\\\Student\\\\OneDrive - Aston University\\\\Documents\\\\Biology\\\\Project\\\\Project_automation\\\\Python\\\\PDB_files\\\\pdb{pdb_code}.ent\"\n",
    "fasta_filepath = f\"C:\\\\Users\\\\Student\\\\OneDrive - Aston University\\\\Documents\\\\Biology\\\\Project\\\\Project_automation\\\\Python\\\\Fasta_files\\\\{pdb_code}.fasta\"\n",
    "\n",
    "# Convert PDB to fasta\n",
    "records = list(SeqIO.parse(pdb_filepath, \"pdb-atom\"))\n",
    "count = SeqIO.write(records, fasta_filepath, \"fasta\")\n",
    "\n",
    "# Check fasta file has been created\n",
    "if count == 0:\n",
    "    raise ValueError(f\"FASTA file creation failed for {pdb_code}\")\n",
    "\n",
    "# Attempting to use DeepTMHMM through the terminal but accessing that through python\n",
    "import subprocess\n",
    "import os\n",
    "import shutil\n",
    "\n",
    "results_dir = f\"C:\\\\Users\\\\Student\\\\OneDrive - Aston University\\\\Documents\\\\Biology\\\\Project\\\\Project_automation\\\\Python\\\\DeepTMHMM_results\\\\{pdb_code}\"\n",
    "os.makedirs(results_dir, exist_ok=True)\n",
    "\n",
    "#os.makedirs(results_dir, exist_ok=True)\n",
    "\n",
    "# Run DeepTMHMM within the results directory\n",
    "result = subprocess.run(\n",
    "    [\"biolib\", \"run\", \"DTU/DeepTMHMM\", \"--fasta\", fasta_filepath],\n",
    "    stdout=subprocess.PIPE,\n",
    "    stderr=subprocess.PIPE,\n",
    "    text=True,\n",
    "    cwd=results_dir \n",
    ")\n",
    "\n",
    "print(\"STDOUT:\", result.stdout)\n",
    "print(\"STDERR:\", result.stderr)\n"
   ]
  },
  {
   "cell_type": "code",
   "execution_count": null,
   "id": "53ed78b4-f01e-461e-9908-65f178e0dc51",
   "metadata": {},
   "outputs": [],
   "source": []
  }
 ],
 "metadata": {
  "kernelspec": {
   "display_name": "Python 3 (ipykernel)",
   "language": "python",
   "name": "python3"
  },
  "language_info": {
   "codemirror_mode": {
    "name": "ipython",
    "version": 3
   },
   "file_extension": ".py",
   "mimetype": "text/x-python",
   "name": "python",
   "nbconvert_exporter": "python",
   "pygments_lexer": "ipython3",
   "version": "3.13.1"
  }
 },
 "nbformat": 4,
 "nbformat_minor": 5
}
