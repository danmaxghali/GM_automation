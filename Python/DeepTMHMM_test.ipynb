{
 "cells": [
  {
   "cell_type": "code",
   "execution_count": 20,
   "id": "775e6089-95bd-4d9e-8db3-1dc937ed3000",
   "metadata": {},
   "outputs": [
    {
     "name": "stdout",
     "output_type": "stream",
     "text": [
      "Structure exists: 'C:\\Users\\Student\\OneDrive - Aston University\\Documents\\Biology\\Project\\Project_automation\\Python\\PDB_files\\pdb2r4s.ent' \n"
     ]
    },
    {
     "data": {
      "text/plain": [
       "'C:\\\\Users\\\\Student\\\\OneDrive - Aston University\\\\Documents\\\\Biology\\\\Project\\\\Project_automation\\\\Python\\\\PDB_files\\\\pdb2r4s.ent'"
      ]
     },
     "execution_count": 20,
     "metadata": {},
     "output_type": "execute_result"
    }
   ],
   "source": [
    "# Call neccesary liraries\n",
    "from Bio import PDB\n",
    "from Bio.Seq import Seq\n",
    "from Bio.SeqRecord import SeqRecord\n",
    "from Bio import SeqIO\n",
    "import numpy as np\n",
    "import torch\n",
    "import pydssp\n",
    "import biolib\n",
    "\n",
    "# Get PDB data\n",
    "pdb_code = \"2R4S\"\n",
    "pdb_file = PDB.PDBList()\n",
    "pdb_file.retrieve_pdb_file(pdb_code, file_format=\"pdb\", pdir='C:\\\\Users\\\\Student\\\\OneDrive - Aston University\\\\Documents\\\\Biology\\\\Project\\\\Project_automation\\\\Python\\\\PDB_files')"
   ]
  },
  {
   "cell_type": "code",
   "execution_count": 21,
   "id": "de2b7c55-62a5-4633-a40a-84ab318ee5ab",
   "metadata": {},
   "outputs": [
    {
     "name": "stdout",
     "output_type": "stream",
     "text": [
      "Chain A has 216 amino acid residues\n"
     ]
    }
   ],
   "source": [
    "# Parse the file\n",
    "parser = PDB.PDBParser(QUIET=True)\n",
    "structure = parser.get_structure(pdb_code, 'C:\\\\Users\\\\Student\\\\OneDrive - Aston University\\\\Documents\\\\Biology\\\\Project\\\\Project_automation\\\\Python\\\\PDB_files\\\\pdb2r4s.ent')\n",
    "\n",
    "# Select the first structure in the file\n",
    "# model = structure[0]\n",
    "\n",
    "# Select the A chain\n",
    "# chain = model['A']\n",
    "\n",
    "# Select residues that are amino acids\n",
    "amino_acid_residues = [residue for residue in chain if PDB.is_aa(residue)]\n",
    "\n",
    "# Check how many residues if needed\n",
    "print(f\"Chain A has {len(amino_acid_residues)} amino acid residues\")\n"
   ]
  },
  {
   "cell_type": "code",
   "execution_count": 26,
   "id": "c253b4ab-981b-4ef9-8919-47f3148becad",
   "metadata": {},
   "outputs": [
    {
     "name": "stdout",
     "output_type": "stream",
     "text": [
      "23\n"
     ]
    }
   ],
   "source": [
    "# Retrieve the amino acid residues by their single letter code and put it into a fasta sequence\n",
    "fasta_seq = str(PDB.PPBuilder().build_peptides(model)[0].get_sequence())\n",
    "print(len(fasta_seq))\n"
   ]
  },
  {
   "cell_type": "code",
   "execution_count": 18,
   "id": "e98f37fe-cdfc-4914-811b-95edbad56cb2",
   "metadata": {},
   "outputs": [
    {
     "name": "stdout",
     "output_type": "stream",
     "text": [
      "'C:\\Users\\Student\\OneDrive - Aston University\\Documents\\Biology\\Project\\Project_automation\\Python\\fasta_files\\2r4s.fasta\n"
     ]
    }
   ],
   "source": [
    "# Create a SeqRecord object from the sequence\n",
    "seq_record = SeqRecord(Seq(fasta_seq), id=\"2r4s\", description=\"\")\n",
    "\n",
    "# Write the sequence to a FASTA file\n",
    "output_filename = \"2r4s.fasta\"  # Name the file as needed\n",
    "with open(output_filename, \"w\") as output_file:\n",
    "    SeqIO.write(seq_record, output_file, \"fasta\")\n",
    "\n",
    "print(f\"'C:\\\\Users\\\\Student\\\\OneDrive - Aston University\\\\Documents\\\\Biology\\\\Project\\\\Project_automation\\\\Python\\\\fasta_files\\\\2r4s.fasta\")"
   ]
  },
  {
   "cell_type": "code",
   "execution_count": 19,
   "id": "be22f43e-e551-43bf-b7c7-21b5e05401ec",
   "metadata": {},
   "outputs": [],
   "source": [
    "# Run DeepTMHMM locally in python\n",
    "import subprocess\n",
    "\n",
    "# Set stdout to True for real-time progress\n",
    "#biolib.utils.STREAM_STDOUT = True\n",
    "\n",
    "# Path to your input FASTA file\n",
    "fasta_file = \"2r4s.fasta\"\n",
    "\n"
   ]
  },
  {
   "cell_type": "code",
   "execution_count": null,
   "id": "e67490e7-d36e-4d91-999a-2172cf1103c8",
   "metadata": {},
   "outputs": [],
   "source": [
    "# Command you would normally run in terminal\n",
    "command = [\n",
    "    'biolib', 'run', '--local', 'DTU/DeepTMHMM:1.0.24', '--fasta', '2r4s.fasta'\n",
    "]\n",
    "\n",
    "# Run the command from Python\n",
    "result = subprocess.run(command, capture_output=True, text=True)\n",
    "\n",
    "# Print stdout and stderr if needed\n",
    "print(\"STDOUT:\", result.stdout)\n",
    "print(\"STDERR:\", result.stderr)\n",
    "\n",
    "# Check if the command was successful\n",
    "if result.returncode == 0:\n",
    "    print(\"DeepTMHMM ran successfully.\")\n",
    "else:\n",
    "    print(\"Error running DeepTMHMM.\")"
   ]
  },
  {
   "cell_type": "code",
   "execution_count": null,
   "id": "c6a175b3-ac28-4917-991d-929711eacf88",
   "metadata": {},
   "outputs": [],
   "source": []
  }
 ],
 "metadata": {
  "kernelspec": {
   "display_name": "Python 3 (ipykernel)",
   "language": "python",
   "name": "python3"
  },
  "language_info": {
   "codemirror_mode": {
    "name": "ipython",
    "version": 3
   },
   "file_extension": ".py",
   "mimetype": "text/x-python",
   "name": "python",
   "nbconvert_exporter": "python",
   "pygments_lexer": "ipython3",
   "version": "3.13.1"
  }
 },
 "nbformat": 4,
 "nbformat_minor": 5
}
