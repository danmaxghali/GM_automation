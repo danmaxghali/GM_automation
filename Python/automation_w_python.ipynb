{
 "cells": [
  {
   "cell_type": "code",
   "execution_count": 14,
   "id": "477e6b0a-7013-4c99-9e80-4ac296d9af89",
   "metadata": {},
   "outputs": [
    {
     "name": "stdout",
     "output_type": "stream",
     "text": [
      "Structure exists: 'C:\\Users\\Student\\OneDrive - Aston University\\Documents\\Biology\\Project\\Project_automation\\Python\\rh\\pdb2rh1.ent' \n"
     ]
    },
    {
     "data": {
      "text/plain": [
       "'C:\\\\Users\\\\Student\\\\OneDrive - Aston University\\\\Documents\\\\Biology\\\\Project\\\\Project_automation\\\\Python\\\\rh\\\\pdb2rh1.ent'"
      ]
     },
     "execution_count": 14,
     "metadata": {},
     "output_type": "execute_result"
    }
   ],
   "source": [
    "# Call neccesary liraries\n",
    "from Bio import PDB\n",
    "from Bio.Seq import Seq\n",
    "from Bio.SeqRecord import SeqRecord\n",
    "from Bio import SeqIO\n",
    "import numpy as np\n",
    "import torch\n",
    "import pydssp\n",
    "import biolib\n",
    "\n",
    "# Get PDB data\n",
    "pdb_code = \"2RH1\"\n",
    "pdb_file = PDB.PDBList()\n",
    "pdb_file.retrieve_pdb_file(pdb_code, file_format=\"pdb\")"
   ]
  },
  {
   "cell_type": "code",
   "execution_count": 15,
   "id": "aa622055-34dc-46e0-ac6b-aae0366b8124",
   "metadata": {},
   "outputs": [],
   "source": [
    "# Create a dictionary for amino acid conversion 3 letter to one\n",
    "three_to_one = {\n",
    "    'ALA': 'A', 'CYS': 'C', 'ASP': 'D', 'GLU': 'E', 'PHE': 'F',\n",
    "    'GLY': 'G', 'HIS': 'H', 'ILE': 'I', 'LYS': 'K', 'LEU': 'L',\n",
    "    'MET': 'M', 'ASN': 'N', 'PRO': 'P', 'GLN': 'Q', 'ARG': 'R',\n",
    "    'SER': 'S', 'THR': 'T', 'VAL': 'V', 'TRP': 'W', 'TYR': 'Y'\n",
    "}"
   ]
  },
  {
   "cell_type": "code",
   "execution_count": 16,
   "id": "62280cfe-42b6-41f7-a11a-74cbb5af7116",
   "metadata": {},
   "outputs": [],
   "source": [
    "# Parse the file\n",
    "parser = PDB.PDBParser(QUIET=True)\n",
    "structure = parser.get_structure(pdb_code, f\"rh\\\\pdb2rh1.pdb\")\n",
    "\n",
    "# Select the first structure in the file\n",
    "model = structure[0]\n",
    "\n",
    "# Select the A chain\n",
    "chain = model['A']\n"
   ]
  },
  {
   "cell_type": "code",
   "execution_count": 4,
   "id": "1e2c6a40-7d72-43bf-9d05-154882e6c4cc",
   "metadata": {},
   "outputs": [],
   "source": [
    "# Retrieve coordinates\n",
    "coordinates = []\n",
    "fasta_seq = []\n",
    "for residue in chain:\n",
    "    if PDB.is_aa(residue):\n",
    "        res_name = residue.get_resname()\n",
    "        fasta_seq.append(three_to_one.get(res_name))\n",
    "        for atom in residue:\n",
    "            if atom.get_name() in ['N', 'CA', 'C', 'O']:\n",
    "                coordinates.append(atom.coord)"
   ]
  },
  {
   "cell_type": "code",
   "execution_count": 29,
   "id": "742f5812-545e-4f31-908a-83ae35e4deee",
   "metadata": {},
   "outputs": [
    {
     "name": "stdout",
     "output_type": "stream",
     "text": [
      "442\n",
      "1768\n"
     ]
    }
   ],
   "source": [
    "print(len(fasta_seq))\n",
    "print(len(coordinates))"
   ]
  },
  {
   "cell_type": "code",
   "execution_count": 5,
   "id": "dba0f9fd-397d-4f9b-81f1-f7e1e85e5ab7",
   "metadata": {},
   "outputs": [],
   "source": [
    "# Prepare eliments of pytorch tensor\n",
    "L = sum(1 for residue in chain if PDB.is_aa(residue))\n",
    "atoms = 4\n",
    "xyz = 3\n",
    "\n",
    "# Make coordinates into array first to increase efficiency\n",
    "coord_array = np.array(coordinates)\n",
    "\n",
    "# Create tensor\n",
    "coord_tensor = torch.tensor(coord_array, dtype=torch.float32).reshape([L, atoms, xyz])"
   ]
  },
  {
   "cell_type": "code",
   "execution_count": 6,
   "id": "979bd651-cb6a-49c2-bac6-5f6a97f6e867",
   "metadata": {},
   "outputs": [
    {
     "name": "stdout",
     "output_type": "stream",
     "text": [
      "['-' '-' 'H' 'H' 'H' 'H' 'H' 'H' 'H' 'H' 'H' 'H' 'H' 'H' 'H' 'H' 'H' 'H'\n",
      " 'H' 'H' 'H' 'H' 'H' 'H' 'H' 'H' 'H' 'H' 'H' 'H' 'H' 'H' '-' 'H' 'H' 'H'\n",
      " '-' '-' 'H' 'H' 'H' 'H' 'H' 'H' 'H' 'H' 'H' 'H' 'H' 'H' 'H' 'H' 'H' 'H'\n",
      " 'H' 'H' 'H' '-' 'H' 'H' 'H' 'H' 'H' 'H' 'H' 'H' 'H' 'H' '-' '-' '-' '-'\n",
      " '-' 'H' 'H' 'H' 'H' 'H' 'H' 'H' 'H' 'H' 'H' 'H' 'H' 'H' 'H' 'H' 'H' 'H'\n",
      " 'H' 'H' 'H' 'H' 'H' 'H' 'H' 'H' 'H' 'H' 'H' 'H' 'H' 'H' 'H' 'H' 'H' 'H'\n",
      " '-' '-' '-' '-' '-' '-' '-' '-' '-' '-' 'H' 'H' 'H' 'H' 'H' 'H' 'H' 'H'\n",
      " 'H' 'H' 'H' 'H' 'H' 'H' 'H' 'H' 'H' 'H' 'H' 'H' 'H' 'H' 'H' 'H' '-' '-'\n",
      " '-' '-' 'E' '-' '-' '-' 'H' 'H' 'H' 'H' 'H' 'H' 'H' 'H' '-' '-' '-' '-'\n",
      " '-' '-' '-' '-' 'E' '-' 'H' 'H' 'H' 'H' 'H' 'H' 'H' 'H' 'H' 'H' 'H' '-'\n",
      " 'H' 'H' 'H' 'H' 'H' 'H' 'H' 'H' 'H' 'H' 'H' 'H' 'H' 'H' 'H' 'H' 'H' 'H'\n",
      " 'H' 'H' 'H' '-' '-' 'H' 'H' 'H' 'H' 'H' 'H' 'H' 'H' '-' '-' '-' 'E' '-'\n",
      " 'E' '-' 'E' 'E' '-' '-' '-' '-' '-' 'E' 'E' 'E' 'E' '-' '-' 'E' 'E' '-'\n",
      " 'E' '-' '-' '-' '-' 'H' 'H' 'H' 'H' 'H' 'H' 'H' 'H' 'H' 'H' 'H' 'H' '-'\n",
      " '-' '-' '-' '-' '-' 'E' '-' '-' 'H' 'H' 'H' 'H' 'H' 'H' 'H' 'H' 'H' 'H'\n",
      " 'H' 'H' 'H' 'H' 'H' 'H' 'H' 'H' 'H' 'H' 'H' '-' 'H' 'H' 'H' 'H' 'H' 'H'\n",
      " 'H' 'H' 'H' '-' '-' 'H' 'H' 'H' 'H' 'H' 'H' 'H' 'H' 'H' 'H' 'H' 'H' 'H'\n",
      " 'H' 'H' 'H' 'H' 'H' 'H' 'H' '-' '-' 'H' 'H' 'H' 'H' 'H' 'H' 'H' 'H' '-'\n",
      " '-' '-' 'H' 'H' 'H' 'H' 'H' 'H' 'H' 'H' '-' '-' '-' 'H' 'H' 'H' 'H' 'H'\n",
      " '-' 'H' 'H' 'H' 'H' 'H' 'H' 'H' 'H' 'H' 'H' 'H' 'H' 'H' '-' '-' '-' 'H'\n",
      " 'H' 'H' '-' '-' '-' '-' 'H' 'H' 'H' 'H' 'H' 'H' 'H' 'H' 'H' 'H' 'H' 'H'\n",
      " 'H' 'H' 'H' 'H' 'H' 'H' 'H' 'H' 'H' 'H' 'H' 'H' 'H' 'H' 'H' 'H' 'H' 'H'\n",
      " 'H' 'H' '-' '-' '-' '-' '-' '-' 'H' 'H' 'H' 'H' 'H' 'H' 'H' 'H' 'H' 'H'\n",
      " 'H' 'H' 'H' 'H' '-' '-' '-' 'H' 'H' 'H' 'H' 'H' 'H' 'H' '-' 'H' 'H' 'H'\n",
      " 'H' 'H' 'H' 'H' 'H' 'H' 'H' '-' '-' '-']\n"
     ]
    }
   ],
   "source": [
    "#dssp_hbond_matrix = pydssp.get_hbond_map(coord_tensor) > 0.5\n",
    "\n",
    "# Use pydssp to get secondary structure\n",
    "ss_data = pydssp.assign(coord_tensor, out_type='c3')\n",
    "print(ss_data)"
   ]
  },
  {
   "cell_type": "code",
   "execution_count": 7,
   "id": "5935833c-7bf1-4d4e-86b4-d588e9ea585b",
   "metadata": {},
   "outputs": [
    {
     "name": "stdout",
     "output_type": "stream",
     "text": [
      "--HHHHHHHHHHHHHHHHHHHHHHHHHHHHHH-HHH--HHHHHHHHHHHHHHHHHHH-HHHHHHHHHH-----HHHHHHHHHHHHHHHHHHHHHHHHHHHHHHHHHHH----------HHHHHHHHHHHHHHHHHHHHHHHH----E---HHHHHHHH--------E-HHHHHHHHHHH-HHHHHHHHHHHHHHHHHHHHH--HHHHHHHH---E-E-EE-----EEEE--EE-E----HHHHHHHHHHHH------E--HHHHHHHHHHHHHHHHHHHHH-HHHHHHHHH--HHHHHHHHHHHHHHHHHHHH--HHHHHHHH---HHHHHHHH---HHHHH-HHHHHHHHHHHHH---HHH----HHHHHHHHHHHHHHHHHHHHHHHHHHHHHHHH------HHHHHHHHHHHHHH---HHHHHHH-HHHHHHHHHH---\n"
     ]
    }
   ],
   "source": [
    "ss_data_string = \"\".join(ss_data)\n",
    "print(ss_data_string)"
   ]
  },
  {
   "cell_type": "code",
   "execution_count": 21,
   "id": "532b4bc2-4e40-44e3-a609-edf6e236556d",
   "metadata": {},
   "outputs": [],
   "source": [
    "# Make fasta string for deepTMHMM\n",
    "fasta_string = \"\".join(fasta_seq)"
   ]
  },
  {
   "cell_type": "code",
   "execution_count": 22,
   "id": "c89e3abd-794a-47dc-b2ba-9b2ff2f21ca8",
   "metadata": {},
   "outputs": [
    {
     "ename": "AttributeError",
     "evalue": "module 'biolib' has no attribute 'deeptmhmm'",
     "output_type": "error",
     "traceback": [
      "\u001b[1;31m---------------------------------------------------------------------------\u001b[0m",
      "\u001b[1;31mAttributeError\u001b[0m                            Traceback (most recent call last)",
      "Cell \u001b[1;32mIn[22], line 3\u001b[0m\n\u001b[0;32m      1\u001b[0m \u001b[38;5;66;03m# Use deepTMHMM locally in python\u001b[39;00m\n\u001b[0;32m      2\u001b[0m biolib\u001b[38;5;241m.\u001b[39mutils\u001b[38;5;241m.\u001b[39mSTREAM_STDOUT \u001b[38;5;241m=\u001b[39m \u001b[38;5;28;01mTrue\u001b[39;00m\n\u001b[1;32m----> 3\u001b[0m deeptmhmm_job \u001b[38;5;241m=\u001b[39m \u001b[43mbiolib\u001b[49m\u001b[38;5;241;43m.\u001b[39;49m\u001b[43mdeeptmhmm\u001b[49m\u001b[38;5;241m.\u001b[39mcli(args\u001b[38;5;241m=\u001b[39mfasta_string, machine\u001b[38;5;241m=\u001b[39m\u001b[38;5;124m'\u001b[39m\u001b[38;5;124mlocal\u001b[39m\u001b[38;5;124m'\u001b[39m)\n\u001b[0;32m      4\u001b[0m deeptmhmm_job\u001b[38;5;241m.\u001b[39msave_files(\u001b[38;5;124m'\u001b[39m\u001b[38;5;124moutput\u001b[39m\u001b[38;5;124m'\u001b[39m)\n",
      "\u001b[1;31mAttributeError\u001b[0m: module 'biolib' has no attribute 'deeptmhmm'"
     ]
    }
   ],
   "source": [
    "# Use deepTMHMM locally in python\n",
    "biolib.utils.STREAM_STDOUT = True\n",
    "deeptmhmm_job = biolib.deeptmhmm.cli(args=fasta_string, machine='local')\n",
    "deeptmhmm_job.save_files('output')"
   ]
  },
  {
   "cell_type": "code",
   "execution_count": 28,
   "id": "78d55d31-864e-422d-9116-ccd9d09aa301",
   "metadata": {},
   "outputs": [
    {
     "name": "stdout",
     "output_type": "stream",
     "text": [
      "DEVWVVGMGIVMSLIVLAIVFGNVLVITAIAKFERLQTVTNYFITSLACADLVMGLAVVPFGAAHILMKMWTFGNFWCEFWTSIDVLCVTASIETLCVIAVDRYFAITSPFKYQSLLTKNKARVIILMVWIVSGLTSFLPIQMHWYRATHQEAINCYAEETCCDFFTNQAYAIASSIVSFYVPLVIMVFVYSRVFQEAKRQLNIFEMLRIDEGLRLKIYKDTEGYYTIGIGHLLTKSPSLNAAKSELDKAIGRNTNGVITKDEAEKLFNQDVDAAVRGILRNAKLKPVYDSLDAVRRAALINMVFQMGETGVAGFTNSLRMLQQKRWDEAAVNLAKSRWYNQTPNRAKRVITTFRTGTWDAYKFCLKEHKALKTLGIIMGTFTLCWLPFFIVNIVHVIQDNLIRKEVYILLNWIGYVNSGFNPLIYCRSPDFRIAFQELLCL\n"
     ]
    }
   ],
   "source": [
    "seq_record = SeqRecord(Seq(fasta_string), id=\"2rh1\")\n",
    "\n",
    "output_filename = \"2rh1.fasta\"  # You can name the file as you wish\n",
    "with open(output_filename, \"w\") as output_file:\n",
    "    SeqIO.write(seq_record, output_file, \"fasta\")\n",
    "\n",
    "print(fasta_string)"
   ]
  },
  {
   "cell_type": "code",
   "execution_count": 17,
   "id": "51354ec0-48d2-48a4-8e3b-b16017255661",
   "metadata": {},
   "outputs": [
    {
     "name": "stdout",
     "output_type": "stream",
     "text": [
      "Residue 29: ASP, Coordinates: [-51.922  -2.262  22.148]\n",
      "Residue 30: GLU, Coordinates: [-53.821  -1.515  18.887]\n",
      "Residue 43: ILE, Coordinates: [-46.85   16.274  12.593]\n",
      "Residue 44: VAL, Coordinates: [-47.195  15.967   8.801]\n",
      "Residue 45: LEU, Coordinates: [-49.954  18.638   8.719]\n",
      "Residue 46: ALA, Coordinates: [-47.783  20.933  10.893]\n",
      "Residue 47: ILE, Coordinates: [-44.751  20.613   8.596]\n",
      "Residue 48: VAL, Coordinates: [-46.721  21.051   5.36 ]\n",
      "Residue 49: PHE, Coordinates: [-48.951  23.916   6.654]\n",
      "Residue 50: GLY, Coordinates: [-46.193  26.04    8.158]\n",
      "Residue 51: ASN, Coordinates: [-43.713  25.636   5.273]\n",
      "Residue 52: VAL, Coordinates: [-46.453  26.245   2.687]\n",
      "Residue 53: LEU, Coordinates: [-47.156  29.441   4.688]\n",
      "Residue 54: VAL, Coordinates: [-43.458  30.517   4.563]\n",
      "Residue 55: ILE, Coordinates: [-43.164  29.906   0.791]\n",
      "Residue 56: THR, Coordinates: [-46.403  31.77    0.067]\n",
      "Residue 57: ALA, Coordinates: [-45.368  34.762   2.263]\n",
      "Residue 58: ILE, Coordinates: [-41.96   35.25    0.586]\n",
      "Residue 59: ALA, Coordinates: [-43.42   34.599  -2.913]\n",
      "Residue 60: LYS, Coordinates: [-46.336  37.01   -2.323]\n",
      "Residue 61: PHE, Coordinates: [-44.861  39.919  -0.334]\n",
      "Residue 62: GLU, Coordinates: [-42.247  42.031  -2.208]\n",
      "Residue 63: ARG, Coordinates: [-41.036  43.318   1.207]\n",
      "Residue 64: LEU, Coordinates: [-39.932  39.775   2.097]\n",
      "Residue 80: LEU, Coordinates: [-42.008  20.683   2.616]\n",
      "Residue 81: VAL, Coordinates: [-40.686  17.628   0.713]\n",
      "Residue 82: MET, Coordinates: [-39.862  15.968   4.099]\n",
      "Residue 83: GLY, Coordinates: [-43.48   16.564   5.17 ]\n",
      "Residue 84: LEU, Coordinates: [-45.01   15.17    1.939]\n",
      "Residue 85: ALA, Coordinates: [-42.54   12.584   0.628]\n",
      "Residue 86: VAL, Coordinates: [-40.544  11.419   3.678]\n",
      "Residue 87: VAL, Coordinates: [-42.455  11.692   7.002]\n",
      "Residue 88: PRO, Coordinates: [-45.792  10.131   5.828]\n",
      "Residue 89: PHE, Coordinates: [-44.153   6.857   4.707]\n",
      "Residue 90: GLY, Coordinates: [-41.738   6.731   7.65 ]\n",
      "Residue 91: ALA, Coordinates: [-44.835   6.994   9.912]\n",
      "Residue 92: ALA, Coordinates: [-46.699   4.241   8.013]\n",
      "Residue 93: HIS, Coordinates: [-43.592   2.022   8.08 ]\n",
      "Residue 94: ILE, Coordinates: [-43.534   2.243  11.901]\n",
      "Residue 95: LEU, Coordinates: [-47.302   1.855  12.478]\n",
      "Residue 96: MET, Coordinates: [-47.635  -1.103  10.066]\n",
      "Residue 97: LYS, Coordinates: [-44.302  -2.598  11.317]\n",
      "Residue 98: MET, Coordinates: [-43.317  -3.387   7.703]\n",
      "Residue 99: TRP, Coordinates: [-42.823  -1.681   4.333]\n",
      "Residue 100: THR, Coordinates: [-45.84   -1.896   1.924]\n",
      "Residue 101: PHE, Coordinates: [-44.748   0.499  -0.87 ]\n",
      "Residue 122: GLU, Coordinates: [-25.957  23.013   2.976]\n",
      "Residue 123: THR, Coordinates: [-28.437  25.916   2.693]\n",
      "Residue 124: LEU, Coordinates: [-28.044  26.877   6.33 ]\n",
      "Residue 125: CYS, Coordinates: [-24.319  26.88    5.727]\n",
      "Residue 126: VAL, Coordinates: [-24.803  29.161   2.654]\n",
      "Residue 127: ILE, Coordinates: [-26.902  31.527   4.84 ]\n",
      "Residue 128: ALA, Coordinates: [-24.031  31.756   7.323]\n",
      "Residue 129: VAL, Coordinates: [-21.415  32.529   4.657]\n",
      "Residue 130: ASP, Coordinates: [-23.812  35.034   2.993]\n",
      "Residue 131: ARG, Coordinates: [-24.52   36.762   6.342]\n",
      "Residue 132: TYR, Coordinates: [-20.772  36.872   7.091]\n",
      "Residue 133: PHE, Coordinates: [-20.01   38.759   3.86 ]\n",
      "Residue 134: ALA, Coordinates: [-23.141  40.911   4.273]\n",
      "Residue 135: ILE, Coordinates: [-22.145  42.039   7.792]\n",
      "Residue 136: THR, Coordinates: [-18.45   42.658   6.911]\n",
      "Residue 137: SER, Coordinates: [-19.224  44.546   3.673]\n",
      "Residue 138: PRO, Coordinates: [-18.908  48.362   3.552]\n",
      "Residue 139: PHE, Coordinates: [-22.436  48.228   2.012]\n",
      "Residue 140: LYS, Coordinates: [-23.326  46.437   5.288]\n",
      "Residue 141: TYR, Coordinates: [-26.07   43.783   5.383]\n",
      "Residue 142: GLN, Coordinates: [-26.686  43.826   1.64 ]\n",
      "Residue 143: SER, Coordinates: [-25.716  40.42    0.415]\n",
      "Residue 170: GLN, Coordinates: [-29.161   4.691  -6.617]\n",
      "Residue 171: MET, Coordinates: [-25.636   3.286  -7.436]\n",
      "Residue 172: HIS, Coordinates: [-25.909   0.954  -4.373]\n",
      "Residue 173: TRP, Coordinates: [-22.647   2.253  -2.758]\n",
      "Residue 174: TYR, Coordinates: [-24.33    2.478   0.643]\n",
      "Residue 175: ARG, Coordinates: [-25.158  -1.227   0.984]\n",
      "Residue 176: ALA, Coordinates: [-23.696  -3.687   3.454]\n",
      "Residue 177: THR, Coordinates: [-22.421  -7.128   2.422]\n",
      "Residue 178: HIS, Coordinates: [-23.719  -9.227   5.397]\n",
      "Residue 179: GLN, Coordinates: [-26.652 -11.67    4.994]\n",
      "Residue 180: GLU, Coordinates: [-29.224  -9.915   7.278]\n",
      "Residue 181: ALA, Coordinates: [-28.887  -6.814   5.061]\n",
      "Residue 182: ILE, Coordinates: [-28.905  -8.843   1.8  ]\n",
      "Residue 183: ASN, Coordinates: [-32.185 -10.442   2.958]\n",
      "Residue 184: CYS, Coordinates: [-33.675  -6.99    3.698]\n",
      "Residue 185: TYR, Coordinates: [-32.588  -5.626   0.289]\n",
      "Residue 186: ALA, Coordinates: [-34.189  -8.489  -1.622]\n",
      "Residue 187: GLU, Coordinates: [-37.237  -8.399   0.713]\n",
      "Residue 188: GLU, Coordinates: [-39.93   -6.085  -0.751]\n",
      "Residue 189: THR, Coordinates: [-41.533  -5.512   2.676]\n",
      "Residue 190: CYS, Coordinates: [-38.209  -4.69    4.377]\n",
      "Residue 191: CYS, Coordinates: [-36.955  -1.11    4.175]\n",
      "Residue 407: SO4, Coordinates: None\n",
      "Residue 408: CAU, Coordinates: None\n",
      "Residue 409: BU1, Coordinates: None\n",
      "Residue 410: BU1, Coordinates: None\n",
      "Residue 411: ACM, Coordinates: None\n",
      "Residue 412: CLR, Coordinates: None\n",
      "Residue 413: CLR, Coordinates: None\n",
      "Residue 414: CLR, Coordinates: None\n",
      "Residue 415: PLM, Coordinates: [-58.837  22.893   3.156]\n",
      "Residue 416: 12P, Coordinates: None\n"
     ]
    }
   ],
   "source": [
    "# Check if DeepTMHMM has worked from results produced in terminal\n",
    "\n",
    "# Define TMH predicted regions\n",
    "tmh_regions = [\n",
    "    (5, 30), (43, 64), (80, 101), (122, 143),\n",
    "    (170, 191), (375, 395), (407, 427)\n",
    "]\n",
    "\n",
    "# Extract residues\n",
    "tmh_residues = []\n",
    "for start, end in tmh_regions:\n",
    "    for residue in chain:\n",
    "        res_id = residue.get_id()[1]\n",
    "        if start <= res_id <= end:\n",
    "            res = residue.get_resname()\n",
    "            ca_atom = residue['CA'].coord if 'CA' in residue else None\n",
    "            tmh_residues.append((res_id, res, ca_atom))\n",
    "\n",
    "# Unpack and format tmh_residues for readability\n",
    "for res_id, res_name, ca_coord in tmh_residues:\n",
    "    print(f\"Residue {res_id}: {res_name}, Coordinates: {ca_coord}\")\n"
   ]
  },
  {
   "cell_type": "code",
   "execution_count": null,
   "id": "e3ad9642-df7f-417e-9619-326a7ac0802f",
   "metadata": {},
   "outputs": [],
   "source": []
  }
 ],
 "metadata": {
  "kernelspec": {
   "display_name": "Python 3 (ipykernel)",
   "language": "python",
   "name": "python3"
  },
  "language_info": {
   "codemirror_mode": {
    "name": "ipython",
    "version": 3
   },
   "file_extension": ".py",
   "mimetype": "text/x-python",
   "name": "python",
   "nbconvert_exporter": "python",
   "pygments_lexer": "ipython3",
   "version": "3.13.1"
  }
 },
 "nbformat": 4,
 "nbformat_minor": 5
}
