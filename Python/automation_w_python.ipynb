{
 "cells": [
  {
   "cell_type": "code",
   "execution_count": 2,
   "id": "477e6b0a-7013-4c99-9e80-4ac296d9af89",
   "metadata": {},
   "outputs": [
    {
     "name": "stdout",
     "output_type": "stream",
     "text": [
      "Structure exists: 'C:\\Users\\Student\\OneDrive - Aston University\\Documents\\Biology\\Project\\Project_automation\\Python\\rh\\pdb2rh1.ent' \n"
     ]
    },
    {
     "data": {
      "text/plain": [
       "'C:\\\\Users\\\\Student\\\\OneDrive - Aston University\\\\Documents\\\\Biology\\\\Project\\\\Project_automation\\\\Python\\\\rh\\\\pdb2rh1.ent'"
      ]
     },
     "execution_count": 2,
     "metadata": {},
     "output_type": "execute_result"
    }
   ],
   "source": [
    "# Call neccesary liraries\n",
    "from Bio import PDB\n",
    "import numpy as np\n",
    "import pydssp\n",
    "\n",
    "# Get PDB data\n",
    "pdb_code = \"2RH1\"\n",
    "pdb_file = PDB.PDBList()\n",
    "pdb_file.retrieve_pdb_file(pdb_code, file_format=\"pdb\")"
   ]
  },
  {
   "cell_type": "code",
   "execution_count": 3,
   "id": "62280cfe-42b6-41f7-a11a-74cbb5af7116",
   "metadata": {},
   "outputs": [],
   "source": [
    "# Parse the file\n",
    "parser = PDB.PDBParser(QUIET=True)\n",
    "structure = parser.get_structure(pdb_code, f\"rh\\\\pdb2rh1.pdb\")\n",
    "\n",
    "# Select the first structure in the file\n",
    "model = structure[0]\n",
    "\n",
    "# Select the A chain\n",
    "chain = model['A']"
   ]
  },
  {
   "cell_type": "code",
   "execution_count": null,
   "id": "1e2c6a40-7d72-43bf-9d05-154882e6c4cc",
   "metadata": {},
   "outputs": [],
   "source": [
    "# Retrieve coordinates\n",
    "coordinates = []\n",
    "for residue in chain:\n",
    "    for atom in residue:\n",
    "        "
   ]
  }
 ],
 "metadata": {
  "kernelspec": {
   "display_name": "Python 3 (ipykernel)",
   "language": "python",
   "name": "python3"
  },
  "language_info": {
   "codemirror_mode": {
    "name": "ipython",
    "version": 3
   },
   "file_extension": ".py",
   "mimetype": "text/x-python",
   "name": "python",
   "nbconvert_exporter": "python",
   "pygments_lexer": "ipython3",
   "version": "3.13.1"
  }
 },
 "nbformat": 4,
 "nbformat_minor": 5
}
