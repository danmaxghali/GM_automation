{
 "cells": [
  {
   "cell_type": "code",
   "execution_count": 36,
   "id": "8348c8bd-446d-41cb-b31f-86c3d480138c",
   "metadata": {},
   "outputs": [
    {
     "name": "stdout",
     "output_type": "stream",
     "text": [
      "Structure exists: 'C:\\Users\\Student\\OneDrive - Aston University\\Documents\\Biology\\Project\\Project_automation\\Python\\PDB_files\\pdb3d4s.ent' \n",
      "Extracted residues: [32, 33, 34, 35, 36, 37, 38, 39, 40, 41, 42, 43, 44, 45, 46, 47, 48, 49, 50, 51, 52, 53, 54, 55, 56, 57, 58, 59, 60, 61, 62, 63, 64, 65, 66, 67, 68, 69, 70, 71, 72, 73, 74, 75, 76, 77, 78, 79, 80, 81, 82, 83, 84, 85, 86, 87, 88, 89, 90, 91, 92, 93, 94, 95, 96, 97, 98, 99, 100, 101, 102, 103, 104, 105, 106, 107, 108, 109, 110, 111, 112, 113, 114, 115, 116, 117, 118, 119, 120, 121, 122, 123, 124, 125, 126, 127, 128, 129, 130, 131, 132, 133, 134, 135, 136, 137, 138, 139, 140, 141, 142, 143, 144, 145, 146, 147, 148, 149, 150, 151, 152, 153, 154, 155, 156, 157, 158, 159, 160, 161, 162, 163, 164, 165, 166, 167, 168, 169, 170, 171, 172, 173, 174, 175, 176, 177, 178, 179, 180, 181, 182, 183, 184, 185, 186, 187, 188, 189, 190, 191, 192, 193, 194, 195, 196, 197, 198, 199, 200, 201, 202, 203, 204, 205, 206, 207, 208, 209, 210, 211, 212, 213, 214, 215, 216, 217, 218, 219, 220, 221, 222, 223, 224, 225, 226, 227, 228, 229, 230, 1002, 1003, 1004, 1005, 1006, 1007, 1008, 1009, 1010, 1011, 1012, 1013, 1014, 1015, 1016, 1017, 1018, 1019, 1020, 1021, 1022, 1023, 1024, 1025, 1026, 1027, 1028, 1029, 1030, 1031, 1032, 1033, 1034, 1035, 1036, 1037, 1038, 1039, 1040, 1041, 1042, 1043, 1044, 1045, 1046, 1047, 1048, 1049, 1050, 1051, 1052, 1053, 1054, 1055, 1056, 1057, 1058, 1059, 1060, 1061, 1062, 1063, 1064, 1065, 1066, 1067, 1068, 1069, 1070, 1071, 1072, 1073, 1074, 1075, 1076, 1077, 1078, 1079, 1080, 1081, 1082, 1083, 1084, 1085, 1086, 1087, 1088, 1089, 1090, 1091, 1092, 1093, 1094, 1095, 1096, 1097, 1098, 1099, 1100, 1101, 1102, 1103, 1104, 1105, 1106, 1107, 1108, 1109, 1110, 1111, 1112, 1113, 1114, 1115, 1116, 1117, 1118, 1119, 1120, 1121, 1122, 1123, 1124, 1125, 1126, 1127, 1128, 1129, 1130, 1131, 1132, 1133, 1134, 1135, 1136, 1137, 1138, 1139, 1140, 1141, 1142, 1143, 1144, 1145, 1146, 1147, 1148, 1149, 1150, 1151, 1152, 1153, 1154, 1155, 1156, 1157, 1158, 1159, 1160, 1161, 263, 264, 265, 266, 267, 268, 269, 270, 271, 272, 273, 274, 275, 276, 277, 278, 279, 280, 281, 282, 283, 284, 285, 286, 287, 288, 289, 290, 291, 292, 293, 294, 295, 296, 297, 298, 299, 300, 301, 302, 303, 304, 305, 306, 307, 308, 309, 310, 311, 312, 313, 314, 315, 316, 317, 318, 319, 320, 321, 322, 323, 324, 325, 326, 327, 328, 329, 330, 331, 332, 333, 334, 335, 336, 337, 338, 339, 340, 341, 342]\n"
     ]
    }
   ],
   "source": [
    "from Bio import PDB, SeqIO\n",
    "from Bio.Seq import Seq\n",
    "from Bio.SeqRecord import SeqRecord\n",
    "\n",
    "# Get PDB data\n",
    "pdb_code = [\"3d4s\",\"2rh1\"]\n",
    "pdb_file = PDB.PDBList()\n",
    "pdb_file.retrieve_pdb_file(pdb_code, file_format=\"pdb\", pdir='C:\\\\Users\\\\Student\\\\OneDrive - Aston University\\\\Documents\\\\Biology\\\\Project\\\\Project_automation\\\\Python\\\\PDB_files')\n",
    "\n",
    "def three_to_one(resname):\n",
    "    aa_dict = {\n",
    "        \"ALA\": \"A\", \"ARG\": \"R\", \"ASN\": \"N\", \"ASP\": \"D\", \"CYS\": \"C\",\n",
    "        \"GLN\": \"Q\", \"GLU\": \"E\", \"GLY\": \"G\", \"HIS\": \"H\", \"ILE\": \"I\",\n",
    "        \"LEU\": \"L\", \"LYS\": \"K\", \"MET\": \"M\", \"PHE\": \"F\", \"PRO\": \"P\",\n",
    "        \"SER\": \"S\", \"THR\": \"T\", \"TRP\": \"W\", \"TYR\": \"Y\", \"VAL\": \"V\"\n",
    "    }\n",
    "    return aa_dict.get(resname, \"X\")  # Return 'X' for unknown residues\n",
    "\n",
    "\n",
    "def extract_pdb_fasta(pdb_filepath, chain_id, output_fasta):\n",
    "    parser = PDB.PDBParser(QUIET=True)\n",
    "    structure = parser.get_structure(pdb_code, pdb_filepath)\n",
    "\n",
    "    sequence = []\n",
    "    observed_residues = []\n",
    "    \n",
    "    for model in structure:\n",
    "        for chain in model:\n",
    "            if chain.id == chain_id:  # Only process the target chain\n",
    "                for residue in chain.get_residues():\n",
    "                    if PDB.is_aa(residue):\n",
    "                        sequence.append(three_to_one(residue.get_resname()))\n",
    "                        observed_residues.append(residue.id[1])  # Keep track of numbering\n",
    "\n",
    "    fasta_seq = SeqRecord(Seq(\"\".join(sequence)), id=f\"{pdb_filepath}_{chain_id}\", description=\"\")\n",
    "    SeqIO.write(fasta_seq, output_fasta, \"fasta\")\n",
    "\n",
    "    return observed_residues  # Return numbering for later alignment\n",
    "\n",
    "pdb_filepath = f\"C:\\\\Users\\\\Student\\\\OneDrive - Aston University\\\\Documents\\\\Biology\\\\Project\\\\Project_automation\\\\Python\\\\PDB_files\\\\pdb{pdb_code}.ent\"\n",
    "chain_id = \"A\"\n",
    "fasta_filepath = f\"C:\\\\Users\\\\Student\\\\OneDrive - Aston University\\\\Documents\\\\Biology\\\\Project\\\\Project_automation\\\\Python\\\\Fasta_files\\\\{pdb_code}.fasta\"\n",
    "\n",
    "observed_residues = extract_pdb_fasta(pdb_filepath, chain_id, fasta_filepath)\n",
    "print(f\"Extracted residues: {observed_residues}\")\n"
   ]
  },
  {
   "cell_type": "code",
   "execution_count": 37,
   "id": "6cfe5dbe-f5d2-43cb-864f-9356fc39369c",
   "metadata": {},
   "outputs": [
    {
     "name": "stdout",
     "output_type": "stream",
     "text": [
      "STDOUT: 2025-03-03 12:21:48,529 | INFO : Extracted zip file to: output/\n",
      "\n",
      "2025-03-03 12:21:48,529 | INFO : Done in 2.48 seconds\n",
      "\n",
      "2025-03-03 12:21:48,529 | INFO : Extracted zip file to: output/\n",
      "2025-03-03 12:21:48,529 | INFO : Done in 2.48 seconds\n",
      "\n",
      "STDERR: \n"
     ]
    }
   ],
   "source": [
    "# Attempting to use DeepTMHMM through the terminal but accessing that through python\n",
    "import subprocess\n",
    "import os\n",
    "import shutil\n",
    "\n",
    "results_dir = f\"C:\\\\Users\\\\Student\\\\OneDrive - Aston University\\\\Documents\\\\Biology\\\\Project\\\\Project_automation\\\\Python\\\\DeepTMHMM_results\\\\{pdb_code}\"\n",
    "os.makedirs(results_dir, exist_ok=True)\n",
    "\n",
    "# Run DeepTMHMM within the results directory\n",
    "process = subprocess.Popen(\n",
    "    [\"biolib\", \"run\", \"DTU/DeepTMHMM\", \"--fasta\", fasta_filepath],\n",
    "    stdout=subprocess.PIPE,\n",
    "    stderr=subprocess.PIPE,\n",
    "    text=True,\n",
    "    cwd=results_dir \n",
    ")\n",
    "\n",
    "stdout, stderr = process.communicate() \n",
    "print(\"STDOUT:\", stdout)\n",
    "print(\"STDERR:\", stderr)"
   ]
  },
  {
   "cell_type": "code",
   "execution_count": 45,
   "id": "618aa5df-2078-4917-9b21-b1f9ab6687c9",
   "metadata": {
    "scrolled": true
   },
   "outputs": [
    {
     "name": "stdout",
     "output_type": "stream",
     "text": [
      "TMH start/end residue pairs in PDB numbering: [(34, 58), (71, 92), (108, 129), (150, 171), (198, 219), (275, 295), (307, 327)]\n",
      "[(3, 27), (40, 61), (77, 98), (119, 140), (167, 188), (372, 392), (404, 424)]\n"
     ]
    }
   ],
   "source": [
    "# Align output ranges with actual observed residues\n",
    "tmh_ranges = []\n",
    "tmh_result_file = f\"C:\\\\Users\\\\Student\\\\OneDrive - Aston University\\\\Documents\\\\Biology\\\\Project\\\\Project_automation\\\\Python\\\\DeepTMHMM_results\\\\{pdb_code}\\\\biolib_results\\\\TMRs.gff3\"\n",
    "\n",
    "with open(tmh_result_file) as file:\n",
    "    for line in file:\n",
    "        if \"TMhelix\" in line:\n",
    "            parts = line.strip().split(\"\\t\")\n",
    "            start, end = int(parts[2]), int(parts[3])\n",
    "            tmh_ranges.append((start, end))\n",
    "\n",
    "# Convert TMH positions to actual PDB residue numbers as pairs\n",
    "tmh_pdb_residue_pairs = [\n",
    "    (observed_residues[start - 1], observed_residues[end - 1]) for start, end in tmh_ranges\n",
    "]\n",
    "\n",
    "print(f\"TMH start/end residue pairs in PDB numbering: {tmh_pdb_residue_pairs}\")\n",
    "print(tmh_ranges)\n"
   ]
  },
  {
   "cell_type": "code",
   "execution_count": 47,
   "id": "17d1f78c-dfdc-487f-a19d-e3af483ee8ad",
   "metadata": {},
   "outputs": [
    {
     "name": "stdout",
     "output_type": "stream",
     "text": [
      "['-' 'H' 'H' 'H' 'H' 'H' 'H' 'H' 'H' 'H' 'H' 'H' 'H' 'H' 'H' 'H' 'H' 'H'\n",
      " 'H' 'H' 'H' 'H' 'H' 'H' 'H' 'H' 'H' 'H' 'H' '-' 'H' 'H' 'H' '-' '-' 'H'\n",
      " 'H' 'H' 'H' 'H' 'H' 'H' 'H' 'H' 'H' 'H' 'H' 'H' 'H' 'H' 'H' 'H' 'H' 'H'\n",
      " '-' 'H' 'H' 'H' 'H' 'H' 'H' 'H' 'H' 'H' '-' '-' '-' '-' '-' '-' 'H' 'H'\n",
      " 'H' 'H' 'H' 'H' 'H' 'H' 'H' 'H' 'H' 'H' 'H' 'H' 'H' 'H' 'H' 'H' 'H' 'H'\n",
      " 'H' 'H' 'H' 'H' 'H' 'H' 'H' 'H' 'H' 'H' 'H' 'H' 'H' 'H' 'H' '-' '-' '-'\n",
      " '-' '-' '-' '-' '-' '-' '-' 'H' 'H' 'H' 'H' 'H' 'H' 'H' 'H' 'H' 'H' 'H'\n",
      " 'H' 'H' 'H' 'H' 'H' 'H' 'H' 'H' 'H' 'H' 'H' 'H' 'H' '-' '-' '-' '-' '-'\n",
      " '-' '-' '-' 'H' 'H' 'H' 'H' 'H' 'H' 'H' 'H' '-' '-' '-' '-' '-' '-' '-'\n",
      " '-' '-' '-' 'H' 'H' 'H' 'H' 'H' 'H' 'H' 'H' 'H' 'H' 'H' '-' 'H' 'H' 'H'\n",
      " 'H' 'H' 'H' 'H' 'H' 'H' 'H' 'H' 'H' 'H' 'H' 'H' 'H' 'H' 'H' 'H' 'H' 'H'\n",
      " '-' '-' 'H' 'H' 'H' 'H' 'H' 'H' 'H' 'H' 'H' '-' '-' 'E' '-' 'E' '-' 'E'\n",
      " 'E' '-' '-' '-' '-' '-' 'E' 'E' 'E' 'E' '-' '-' 'E' 'E' '-' 'E' '-' '-'\n",
      " '-' '-' 'H' 'H' 'H' 'H' 'H' 'H' 'H' 'H' 'H' 'H' 'H' 'H' '-' '-' '-' '-'\n",
      " '-' '-' 'E' '-' '-' 'H' 'H' 'H' 'H' 'H' 'H' 'H' 'H' 'H' 'H' 'H' 'H' 'H'\n",
      " 'H' 'H' 'H' 'H' 'H' 'H' 'H' 'H' '-' 'H' 'H' 'H' 'H' 'H' 'H' 'H' 'H' 'H'\n",
      " '-' '-' 'H' 'H' 'H' 'H' 'H' 'H' 'H' 'H' 'H' 'H' 'H' 'H' 'H' 'H' '-' 'H'\n",
      " 'H' 'H' 'H' '-' '-' '-' 'H' 'H' 'H' 'H' 'H' 'H' 'H' 'H' '-' '-' '-' 'H'\n",
      " 'H' 'H' 'H' 'H' 'H' 'H' 'H' 'H' '-' '-' 'H' 'H' 'H' 'H' 'H' '-' 'H' 'H'\n",
      " 'H' 'H' 'H' 'H' 'H' 'H' 'H' 'H' 'H' 'H' 'H' '-' '-' '-' '-' '-' '-' '-'\n",
      " '-' '-' '-' 'H' 'H' 'H' 'H' 'H' 'H' 'H' 'H' 'H' 'H' 'H' 'H' 'H' 'H' 'H'\n",
      " 'H' 'H' 'H' 'H' 'H' 'H' 'H' 'H' 'H' 'H' 'H' 'H' 'H' 'H' 'H' 'H' 'H' '-'\n",
      " '-' '-' '-' '-' '-' 'H' 'H' 'H' 'H' 'H' 'H' 'H' 'H' 'H' 'H' 'H' 'H' 'H'\n",
      " 'H' 'H' 'H' '-' 'H' 'H' 'H' 'H' 'H' 'H' 'H' '-' 'H' 'H' 'H' 'H' 'H' 'H'\n",
      " 'H' 'H' 'H' 'H' '-' '-' '-']\n"
     ]
    }
   ],
   "source": [
    "import numpy as np\n",
    "import torch\n",
    "import pydssp\n",
    "\n",
    "parser = PDB.PDBParser(QUIET=True)\n",
    "structure = parser.get_structure(pdb_code, pdb_filepath)\n",
    "\n",
    "# Select the first structure in the file\n",
    "model = structure[0]\n",
    "\n",
    "# Select the A chain\n",
    "chain = model['A']\n",
    "\n",
    "# Retrieve coordinates\n",
    "coordinates = []\n",
    "for residue in chain:\n",
    "    if PDB.is_aa(residue):\n",
    "        res_name = residue.get_resname()\n",
    "        for atom in residue:\n",
    "            if atom.get_name() in ['N', 'CA', 'C', 'O']:\n",
    "                coordinates.append(atom.coord)\n",
    "\n",
    "# Prepare eliments of pytorch tensor\n",
    "L = sum(1 for residue in chain if PDB.is_aa(residue))\n",
    "atoms = 4\n",
    "xyz = 3\n",
    "\n",
    "# Make coordinates into array first to increase efficiency\n",
    "coord_array = np.array(coordinates)\n",
    "\n",
    "# Create tensor\n",
    "coord_tensor = torch.tensor(coord_array, dtype=torch.float32).reshape([L, atoms, xyz])\n",
    "\n",
    "#dssp_hbond_matrix = pydssp.get_hbond_map(coord_tensor) > 0.5\n",
    "\n",
    "# Use pydssp to get secondary structure\n",
    "ss_data = pydssp.assign(coord_tensor, out_type='c3')\n",
    "print(ss_data)"
   ]
  },
  {
   "cell_type": "code",
   "execution_count": 43,
   "id": "c30acee1-9308-4171-b593-882acc34773b",
   "metadata": {},
   "outputs": [
    {
     "name": "stdout",
     "output_type": "stream",
     "text": [
      "-HHHHHHHHHHHHHHHHHHHHHHHHHHHH-HHH--HHHHHHHHHHHHHHHHHHH-HHHHHHHHH------HHHHHHHHHHHHHHHHHHHHHHHHHHHHHHHHHHH----------HHHHHHHHHHHHHHHHHHHHHHHH--------HHHHHHHH----------HHHHHHHHHHH-HHHHHHHHHHHHHHHHHHHHH--HHHHHHHHH--E-E-EE-----EEEE--EE-E----HHHHHHHHHHHH------E--HHHHHHHHHHHHHHHHHHHHH-HHHHHHHHH--HHHHHHHHHHHHHH-HHHH---HHHHHHHH---HHHHHHHHH--HHHHH-HHHHHHHHHHHHH----------HHHHHHHHHHHHHHHHHHHHHHHHHHHHHHHH------HHHHHHHHHHHHHHHH-HHHHHHH-HHHHHHHHHH---\n"
     ]
    }
   ],
   "source": [
    "ss_data_string = \"\".join(ss_data)\n",
    "print(ss_data_string)"
   ]
  },
  {
   "cell_type": "code",
   "execution_count": 60,
   "id": "606e59df-1d56-4312-adfd-6a8e63e1b76b",
   "metadata": {},
   "outputs": [
    {
     "name": "stdout",
     "output_type": "stream",
     "text": [
      "Extended TMH Ranges: [(1, 28), (35, 63), (70, 104), (115, 140), (165, 197), (363, 394), (401, 424)]\n"
     ]
    }
   ],
   "source": [
    "def extend_tmh_ranges(tmh_ranges, ss_data, max_extend=9):\n",
    "    extended_tmh_ranges = []\n",
    "\n",
    "    for start, end in tmh_ranges:\n",
    "        # Extend start position backwards if residues are consecutive 'H'\n",
    "        extended_start = start\n",
    "        for i in range(1, max_extend + 1):\n",
    "            prev_res = start - i\n",
    "            if prev_res >= 0 and ss_data[prev_res] == \"H\":  # Ensure valid index\n",
    "                extended_start = prev_res\n",
    "            else:\n",
    "                break  # Stop if a non-'H' is encountered\n",
    "\n",
    "        # Extend end position forwards if residues are consecutive 'H'\n",
    "        extended_end = end\n",
    "        for i in range(1, max_extend + 1):\n",
    "            next_res = end + i\n",
    "            if next_res < len(ss_data) and ss_data[next_res] == \"H\":  # Ensure valid index\n",
    "                extended_end = next_res\n",
    "            else:\n",
    "                break  # Stop if a non-'H' is encountered\n",
    "\n",
    "        extended_tmh_ranges.append((extended_start, extended_end))\n",
    "\n",
    "    return extended_tmh_ranges\n",
    "\n",
    "extended_tmh_ranges = extend_tmh_ranges(tmh_ranges, ss_data)\n",
    "print(f\"Extended TMH Ranges: {extended_tmh_ranges}\")\n"
   ]
  },
  {
   "cell_type": "code",
   "execution_count": 61,
   "id": "73853ea5-10dd-4d7e-b499-a022d6ee4cdc",
   "metadata": {},
   "outputs": [
    {
     "name": "stdout",
     "output_type": "stream",
     "text": [
      "TMH start/end residue pairs in PDB numbering: [(32, 59), (66, 94), (101, 135), (146, 171), (196, 228), (266, 297), (304, 327)]\n"
     ]
    }
   ],
   "source": [
    "# Convert TMH positions to actual PDB residue numbers as pairs\n",
    "tmh_extended_pairs = [\n",
    "    (observed_residues[start - 1], observed_residues[end - 1]) for start, end in extended_tmh_ranges\n",
    "]\n",
    "\n",
    "print(f\"TMH start/end residue pairs in PDB numbering: {tmh_extended_pairs}\")"
   ]
  },
  {
   "cell_type": "code",
   "execution_count": 64,
   "id": "3c3f2a9c-3f6c-4362-bc08-1c713a8e91b2",
   "metadata": {},
   "outputs": [
    {
     "name": "stdout",
     "output_type": "stream",
     "text": [
      "[32, 59, 94, 66, 101, 135, 171, 146, 196, 228, 297, 266, 304, 327]\n"
     ]
    }
   ],
   "source": [
    "def reorder_gpcr_tmh_ends(tmh_extended_pairs):\n",
    "    \"\"\"Reorder TMH ends for a GPCR assuming 14 TMH ends in the given pattern.\"\"\"\n",
    "    pattern = [\"extra\", \"intra\", \"intra\", \"extra\", \"extra\", \"intra\", \"intra\", \n",
    "               \"extra\", \"extra\", \"intra\", \"intra\", \"extra\", \"extra\", \"intra\"]\n",
    "\n",
    "    reordered = []\n",
    "    for i, label in enumerate(pattern):\n",
    "        if label == \"extra\":\n",
    "            reordered.append(tmh_extended_pairs[i // 2][0])  # Take start residue\n",
    "        else:  # \"intra\"\n",
    "            reordered.append(tmh_extended_pairs[i // 2][1])  # Take end residue\n",
    "\n",
    "    return reordered\n",
    "\n",
    "# Process\n",
    "flattened_tmh = reorder_gpcr_tmh_ends(tmh_extended_pairs)\n",
    "print(flattened_tmh)\n"
   ]
  },
  {
   "cell_type": "code",
   "execution_count": null,
   "id": "e3c067c3-79c0-4558-8117-d958a356057e",
   "metadata": {},
   "outputs": [],
   "source": []
  }
 ],
 "metadata": {
  "kernelspec": {
   "display_name": "Python 3 (ipykernel)",
   "language": "python",
   "name": "python3"
  },
  "language_info": {
   "codemirror_mode": {
    "name": "ipython",
    "version": 3
   },
   "file_extension": ".py",
   "mimetype": "text/x-python",
   "name": "python",
   "nbconvert_exporter": "python",
   "pygments_lexer": "ipython3",
   "version": "3.13.1"
  }
 },
 "nbformat": 4,
 "nbformat_minor": 5
}
