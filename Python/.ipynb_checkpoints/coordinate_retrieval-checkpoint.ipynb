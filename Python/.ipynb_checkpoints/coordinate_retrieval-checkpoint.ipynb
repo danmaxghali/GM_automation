{
 "cells": [
  {
   "cell_type": "code",
   "execution_count": 34,
   "id": "5bbd9923-3cb2-4bb1-84db-ae8b829f51f1",
   "metadata": {},
   "outputs": [
    {
     "name": "stdout",
     "output_type": "stream",
     "text": [
      "Downloading PDB structure '2rh1'...\n",
      "[-55.757   1.618  20.079]\n"
     ]
    }
   ],
   "source": [
    "# Call libraries\n",
    "from Bio import PDB\n",
    "import tempfile\n",
    "import os\n",
    "\n",
    "# Create function to extract coordinates\n",
    "def get_coords(pdb_id, chain_id, residue_id):\n",
    "    pdb_id = pdb_id.lower()\n",
    "    pdbl = PDB.PDBList()\n",
    "\n",
    "    # Create temporary directory\n",
    "    with tempfile.TemporaryDirectory() as temp_dir:\n",
    "        pdb_file_path = pdbl.retrieve_pdb_file(pdb_id, pdir=temp_dir, file_format=\"pdb\")\n",
    "\n",
    "        # Parse the file\n",
    "        parser = PDB.PDBParser(QUIET=True)\n",
    "        structure = parser.get_structure(pdb_id, pdb_file_path)\n",
    "    \n",
    "        # Loop through file to extract residue coordinates\n",
    "        for model in structure:\n",
    "            if chain_id in model:\n",
    "                chain = model[chain_id]\n",
    "                if residue_id in chain:\n",
    "                    residue = chain[residue_id]\n",
    "                    for atom in residue:\n",
    "                        if atom.get_name() == \"CA\":\n",
    "                            return atom.coord\n",
    "\n",
    "# Select pdb code, chain and residue\n",
    "pdb_id = \"2RH1\"\n",
    "chain_id = \"A\"\n",
    "residue_id = 31\n",
    "\n",
    "coordinates = get_coords(pdb_id, chain_id, residue_id)\n",
    "print(coordinates)"
   ]
  },
  {
   "cell_type": "code",
   "execution_count": null,
   "id": "f20393a6-80b4-42d9-9335-fea356972aaa",
   "metadata": {},
   "outputs": [],
   "source": []
  }
 ],
 "metadata": {
  "kernelspec": {
   "display_name": "Python 3 (ipykernel)",
   "language": "python",
   "name": "python3"
  },
  "language_info": {
   "codemirror_mode": {
    "name": "ipython",
    "version": 3
   },
   "file_extension": ".py",
   "mimetype": "text/x-python",
   "name": "python",
   "nbconvert_exporter": "python",
   "pygments_lexer": "ipython3",
   "version": "3.13.1"
  }
 },
 "nbformat": 4,
 "nbformat_minor": 5
}
