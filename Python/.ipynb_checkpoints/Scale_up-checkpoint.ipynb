{
 "cells": [
  {
   "cell_type": "code",
   "execution_count": 7,
   "id": "c1cbff36-2512-4388-b29c-4eb306285231",
   "metadata": {},
   "outputs": [
    {
     "name": "stdout",
     "output_type": "stream",
     "text": [
      "Structure exists: 'C:\\Users\\Student\\OneDrive - Aston University\\Documents\\Biology\\Project\\Project_automation\\Python\\PDB_files\\pdb3d4s.ent' \n",
      "Structure exists: 'C:\\Users\\Student\\OneDrive - Aston University\\Documents\\Biology\\Project\\Project_automation\\Python\\PDB_files\\pdb2rh1.ent' \n"
     ]
    }
   ],
   "source": [
    "from Bio import PDB, SeqIO\n",
    "from Bio.Seq import Seq\n",
    "from Bio.SeqRecord import SeqRecord\n",
    "\n",
    "# Get PDB data\n",
    "pdb_codes = [\"3d4s\", \"2rh1\"]\n",
    "pdb_file = PDB.PDBList()\n",
    "for pdb_code in pdb_codes:\n",
    "    pdb_file.retrieve_pdb_file(pdb_code, file_format=\"pdb\", \n",
    "                               pdir=\"C:\\\\Users\\\\Student\\\\OneDrive - Aston University\\\\Documents\\\\Biology\\\\Project\\\\Project_automation\\\\Python\\\\PDB_files\")\n",
    "def three_to_one(resname):\n",
    "    aa_dict = {\n",
    "        \"ALA\": \"A\", \"ARG\": \"R\", \"ASN\": \"N\", \"ASP\": \"D\", \"CYS\": \"C\",\n",
    "        \"GLN\": \"Q\", \"GLU\": \"E\", \"GLY\": \"G\", \"HIS\": \"H\", \"ILE\": \"I\",\n",
    "        \"LEU\": \"L\", \"LYS\": \"K\", \"MET\": \"M\", \"PHE\": \"F\", \"PRO\": \"P\",\n",
    "        \"SER\": \"S\", \"THR\": \"T\", \"TRP\": \"W\", \"TYR\": \"Y\", \"VAL\": \"V\"\n",
    "    }\n",
    "    return aa_dict.get(resname, \"X\")  # Return 'X' for unknown residues\n",
    "\n",
    "\n",
    "def extract_pdb_fasta(pdb_filepath, chain_id, output_fasta):\n",
    "    parser = PDB.PDBParser(QUIET=True)\n",
    "    structure = parser.get_structure(pdb_code, pdb_filepath)\n",
    "\n",
    "    sequence = []\n",
    "    observed_residues = []\n",
    "    \n",
    "    for model in structure:\n",
    "        for chain in model:\n",
    "            if chain.id == chain_id:  # Only process the target chain\n",
    "                for residue in chain.get_residues():\n",
    "                    if PDB.is_aa(residue):\n",
    "                        sequence.append(three_to_one(residue.get_resname()))\n",
    "                        observed_residues.append(residue.id[1])  # Keep track of numbering\n",
    "\n",
    "    fasta_seq = SeqRecord(Seq(\"\".join(sequence)), id=f\"{pdb_filepath}_{chain_id}\", description=\"\")\n",
    "    SeqIO.write(fasta_seq, output_fasta, \"fasta\")\n",
    "\n",
    "    return observed_residues  # Return numbering for later alignment\n",
    "\n",
    "chain_id = \"A\"\n",
    "all_observed_residues = {}\n",
    "\n",
    "for pdb_code in pdb_codes:\n",
    "    pdb_filepath = f\"C:\\\\Users\\\\Student\\\\OneDrive - Aston University\\\\Documents\\\\Biology\\\\Project\\\\Project_automation\\\\Python\\\\PDB_files\\\\pdb{pdb_code}.ent\"\n",
    "    fasta_filepath = f\"C:\\\\Users\\\\Student\\\\OneDrive - Aston University\\\\Documents\\\\Biology\\\\Project\\\\Project_automation\\\\Python\\\\Fasta_files\\\\{pdb_code}.fasta\"\n",
    "\n",
    "    observed_residues = extract_pdb_fasta(pdb_filepath, chain_id, fasta_filepath)\n",
    "    all_observed_residues[pdb_code] = observed_residues  # Store results\n",
    "\n",
    "#    print(f\"PDB: {pdb_code}, Extracted residues: {observed_residues}\")\n"
   ]
  },
  {
   "cell_type": "code",
   "execution_count": null,
   "id": "7793af68-9bf1-4b5e-9a78-8228002fafe6",
   "metadata": {},
   "outputs": [],
   "source": []
  }
 ],
 "metadata": {
  "kernelspec": {
   "display_name": "Python 3 (ipykernel)",
   "language": "python",
   "name": "python3"
  },
  "language_info": {
   "codemirror_mode": {
    "name": "ipython",
    "version": 3
   },
   "file_extension": ".py",
   "mimetype": "text/x-python",
   "name": "python",
   "nbconvert_exporter": "python",
   "pygments_lexer": "ipython3",
   "version": "3.13.1"
  }
 },
 "nbformat": 4,
 "nbformat_minor": 5
}
